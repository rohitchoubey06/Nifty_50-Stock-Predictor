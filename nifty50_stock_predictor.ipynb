{
 "cells": [
  {
   "cell_type": "markdown",
   "id": "a1e66cbb",
   "metadata": {},
   "source": [
    "## Importing 'yfinance' and getting data"
   ]
  },
  {
   "cell_type": "code",
   "execution_count": 2,
   "id": "831aca6b",
   "metadata": {},
   "outputs": [],
   "source": [
    "import yfinance as yf"
   ]
  },
  {
   "cell_type": "code",
   "execution_count": 3,
   "id": "f46d2ecb",
   "metadata": {},
   "outputs": [
    {
     "name": "stderr",
     "output_type": "stream",
     "text": [
      "[*********************100%%**********************]  1 of 1 completed\n"
     ]
    }
   ],
   "source": [
    "df = yf.download('Apollo.ns')"
   ]
  },
  {
   "cell_type": "code",
   "execution_count": 4,
   "id": "037f8175",
   "metadata": {},
   "outputs": [
    {
     "data": {
      "text/html": [
       "<div>\n",
       "<style scoped>\n",
       "    .dataframe tbody tr th:only-of-type {\n",
       "        vertical-align: middle;\n",
       "    }\n",
       "\n",
       "    .dataframe tbody tr th {\n",
       "        vertical-align: top;\n",
       "    }\n",
       "\n",
       "    .dataframe thead th {\n",
       "        text-align: right;\n",
       "    }\n",
       "</style>\n",
       "<table border=\"1\" class=\"dataframe\">\n",
       "  <thead>\n",
       "    <tr style=\"text-align: right;\">\n",
       "      <th></th>\n",
       "      <th>Open</th>\n",
       "      <th>High</th>\n",
       "      <th>Low</th>\n",
       "      <th>Close</th>\n",
       "      <th>Adj Close</th>\n",
       "      <th>Volume</th>\n",
       "    </tr>\n",
       "    <tr>\n",
       "      <th>Date</th>\n",
       "      <th></th>\n",
       "      <th></th>\n",
       "      <th></th>\n",
       "      <th></th>\n",
       "      <th></th>\n",
       "      <th></th>\n",
       "    </tr>\n",
       "  </thead>\n",
       "  <tbody>\n",
       "    <tr>\n",
       "      <th>2024-03-19</th>\n",
       "      <td>94.000000</td>\n",
       "      <td>101.000000</td>\n",
       "      <td>94.0</td>\n",
       "      <td>97.650002</td>\n",
       "      <td>97.650002</td>\n",
       "      <td>722226</td>\n",
       "    </tr>\n",
       "    <tr>\n",
       "      <th>2024-03-20</th>\n",
       "      <td>98.000000</td>\n",
       "      <td>99.900002</td>\n",
       "      <td>94.0</td>\n",
       "      <td>96.500000</td>\n",
       "      <td>96.500000</td>\n",
       "      <td>538628</td>\n",
       "    </tr>\n",
       "    <tr>\n",
       "      <th>2024-03-21</th>\n",
       "      <td>99.500000</td>\n",
       "      <td>99.500000</td>\n",
       "      <td>97.0</td>\n",
       "      <td>98.000000</td>\n",
       "      <td>98.000000</td>\n",
       "      <td>552349</td>\n",
       "    </tr>\n",
       "    <tr>\n",
       "      <th>2024-03-22</th>\n",
       "      <td>98.150002</td>\n",
       "      <td>102.900002</td>\n",
       "      <td>97.5</td>\n",
       "      <td>102.849998</td>\n",
       "      <td>102.849998</td>\n",
       "      <td>886637</td>\n",
       "    </tr>\n",
       "    <tr>\n",
       "      <th>2024-03-26</th>\n",
       "      <td>104.000000</td>\n",
       "      <td>105.500000</td>\n",
       "      <td>98.5</td>\n",
       "      <td>98.699997</td>\n",
       "      <td>98.699997</td>\n",
       "      <td>1280946</td>\n",
       "    </tr>\n",
       "  </tbody>\n",
       "</table>\n",
       "</div>"
      ],
      "text/plain": [
       "                  Open        High   Low       Close   Adj Close   Volume\n",
       "Date                                                                     \n",
       "2024-03-19   94.000000  101.000000  94.0   97.650002   97.650002   722226\n",
       "2024-03-20   98.000000   99.900002  94.0   96.500000   96.500000   538628\n",
       "2024-03-21   99.500000   99.500000  97.0   98.000000   98.000000   552349\n",
       "2024-03-22   98.150002  102.900002  97.5  102.849998  102.849998   886637\n",
       "2024-03-26  104.000000  105.500000  98.5   98.699997   98.699997  1280946"
      ]
     },
     "execution_count": 4,
     "metadata": {},
     "output_type": "execute_result"
    }
   ],
   "source": [
    "df.tail()"
   ]
  },
  {
   "cell_type": "code",
   "execution_count": 5,
   "id": "e220372f",
   "metadata": {},
   "outputs": [],
   "source": [
    "df.reset_index(inplace=True)"
   ]
  },
  {
   "cell_type": "code",
   "execution_count": 6,
   "id": "5d4abdb6",
   "metadata": {},
   "outputs": [],
   "source": [
    "df.drop(columns=['Adj Close'],inplace=True)"
   ]
  },
  {
   "cell_type": "code",
   "execution_count": 7,
   "id": "10a6f8d3",
   "metadata": {},
   "outputs": [
    {
     "data": {
      "text/html": [
       "<div>\n",
       "<style scoped>\n",
       "    .dataframe tbody tr th:only-of-type {\n",
       "        vertical-align: middle;\n",
       "    }\n",
       "\n",
       "    .dataframe tbody tr th {\n",
       "        vertical-align: top;\n",
       "    }\n",
       "\n",
       "    .dataframe thead th {\n",
       "        text-align: right;\n",
       "    }\n",
       "</style>\n",
       "<table border=\"1\" class=\"dataframe\">\n",
       "  <thead>\n",
       "    <tr style=\"text-align: right;\">\n",
       "      <th></th>\n",
       "      <th>Date</th>\n",
       "      <th>Open</th>\n",
       "      <th>High</th>\n",
       "      <th>Low</th>\n",
       "      <th>Close</th>\n",
       "      <th>Volume</th>\n",
       "    </tr>\n",
       "  </thead>\n",
       "  <tbody>\n",
       "    <tr>\n",
       "      <th>0</th>\n",
       "      <td>2018-01-22</td>\n",
       "      <td>46.500000</td>\n",
       "      <td>48.000000</td>\n",
       "      <td>44.174999</td>\n",
       "      <td>44.174999</td>\n",
       "      <td>10382040</td>\n",
       "    </tr>\n",
       "    <tr>\n",
       "      <th>1</th>\n",
       "      <td>2018-01-23</td>\n",
       "      <td>41.970001</td>\n",
       "      <td>41.970001</td>\n",
       "      <td>41.970001</td>\n",
       "      <td>41.970001</td>\n",
       "      <td>245980</td>\n",
       "    </tr>\n",
       "    <tr>\n",
       "      <th>2</th>\n",
       "      <td>2018-01-24</td>\n",
       "      <td>39.875000</td>\n",
       "      <td>39.875000</td>\n",
       "      <td>39.875000</td>\n",
       "      <td>39.875000</td>\n",
       "      <td>137650</td>\n",
       "    </tr>\n",
       "    <tr>\n",
       "      <th>3</th>\n",
       "      <td>2018-01-25</td>\n",
       "      <td>37.884998</td>\n",
       "      <td>37.884998</td>\n",
       "      <td>37.884998</td>\n",
       "      <td>37.884998</td>\n",
       "      <td>169900</td>\n",
       "    </tr>\n",
       "    <tr>\n",
       "      <th>4</th>\n",
       "      <td>2018-01-29</td>\n",
       "      <td>38.000000</td>\n",
       "      <td>39.439999</td>\n",
       "      <td>35.994999</td>\n",
       "      <td>36.174999</td>\n",
       "      <td>8274710</td>\n",
       "    </tr>\n",
       "  </tbody>\n",
       "</table>\n",
       "</div>"
      ],
      "text/plain": [
       "        Date       Open       High        Low      Close    Volume\n",
       "0 2018-01-22  46.500000  48.000000  44.174999  44.174999  10382040\n",
       "1 2018-01-23  41.970001  41.970001  41.970001  41.970001    245980\n",
       "2 2018-01-24  39.875000  39.875000  39.875000  39.875000    137650\n",
       "3 2018-01-25  37.884998  37.884998  37.884998  37.884998    169900\n",
       "4 2018-01-29  38.000000  39.439999  35.994999  36.174999   8274710"
      ]
     },
     "execution_count": 7,
     "metadata": {},
     "output_type": "execute_result"
    }
   ],
   "source": [
    "df.head()"
   ]
  },
  {
   "cell_type": "code",
   "execution_count": 8,
   "id": "f18bcbf1",
   "metadata": {},
   "outputs": [],
   "source": [
    "df.set_index('Date',inplace=True)"
   ]
  },
  {
   "cell_type": "code",
   "execution_count": 9,
   "id": "e2231d6e",
   "metadata": {},
   "outputs": [],
   "source": [
    "import matplotlib.pyplot as plt\n",
    "import pandas as pd"
   ]
  },
  {
   "cell_type": "code",
   "execution_count": 10,
   "id": "960ad457",
   "metadata": {},
   "outputs": [
    {
     "data": {
      "image/png": "[encoded data removed]",
      "text/plain": [
       "<Figure size 432x288 with 1 Axes>"
      ]
     },
     "metadata": {
      "needs_background": "light"
     },
     "output_type": "display_data"
    }
   ],
   "source": [
    "plt.plot(df.Close)\n",
    "plt.show()"
   ]
  },
  {
   "cell_type": "markdown",
   "id": "7d201626",
   "metadata": {},
   "source": [
    "## Moving Average over a window of 100 periods"
   ]
  },
  {
   "cell_type": "code",
   "execution_count": 11,
   "id": "4ee1373c",
   "metadata": {},
   "outputs": [],
   "source": [
    "ma100 = df.Close.rolling(100).mean()"
   ]
  },
  {
   "cell_type": "code",
   "execution_count": 12,
   "id": "e84f7a51",
   "metadata": {},
   "outputs": [
    {
     "data": {
      "image/png": "[encoded data removed]",
      "text/plain": [
       "<Figure size 864x432 with 1 Axes>"
      ]
     },
     "metadata": {
      "needs_background": "light"
     },
     "output_type": "display_data"
    }
   ],
   "source": [
    "plt.figure(figsize=(12,6))\n",
    "plt.title(\"Original Close vs Moving Average\")\n",
    "plt.plot(df.Close,label='Original Close')\n",
    "plt.plot(ma100,'r',label='Moving Average')\n",
    "plt.legend()\n",
    "plt.show()"
   ]
  },
  {
   "cell_type": "markdown",
   "id": "595a0ea5",
   "metadata": {},
   "source": [
    "## Smoothening the data using Differencing"
   ]
  },
  {
   "cell_type": "code",
   "execution_count": 13,
   "id": "f0362a05",
   "metadata": {},
   "outputs": [
    {
     "data": {
      "image/png": "[encoded data removed]",
      "text/plain": [
       "<Figure size 864x432 with 1 Axes>"
      ]
     },
     "metadata": {
      "needs_background": "light"
     },
     "output_type": "display_data"
    }
   ],
   "source": [
    "df['Close_diff'] = df['Close'].diff()\n",
    "plt.figure(figsize=(12,6))\n",
    "plt.title(\"Original Close vs Differenced Close\")\n",
    "plt.plot(df.Close,label='Original Close')\n",
    "plt.plot(df.Close_diff,'g',label=\"Differenced Close\")\n",
    "plt.legend()\n",
    "plt.show()"
   ]
  },
  {
   "cell_type": "markdown",
   "id": "7c41fd17",
   "metadata": {},
   "source": [
    "## Train test split"
   ]
  },
  {
   "cell_type": "code",
   "execution_count": 19,
   "id": "77c37df6",
   "metadata": {},
   "outputs": [],
   "source": [
    "data_training = pd.DataFrame(df['Close'][0:int(len(df)*0.70)])"
   ]
  },
  {
   "cell_type": "code",
   "execution_count": 20,
   "id": "c78981ce",
   "metadata": {},
   "outputs": [],
   "source": [
    "data_testing = pd.DataFrame(df['Close'][int(len(df)*0.70):])"
   ]
  },
  {
   "cell_type": "code",
   "execution_count": 21,
   "id": "e20e6363",
   "metadata": {},
   "outputs": [
    {
     "data": {
      "text/plain": [
       "True"
      ]
     },
     "execution_count": 21,
     "metadata": {},
     "output_type": "execute_result"
    }
   ],
   "source": [
    "len(data_training)+len(data_testing) ==len(df)"
   ]
  },
  {
   "cell_type": "markdown",
   "id": "44cc2d41",
   "metadata": {},
   "source": [
    "## How many years of data is available"
   ]
  },
  {
   "cell_type": "code",
   "execution_count": 22,
   "id": "681eb3ac",
   "metadata": {},
   "outputs": [
    {
     "name": "stdout",
     "output_type": "stream",
     "text": [
      "6 years of data is available\n"
     ]
    }
   ],
   "source": [
    "print(f\"{df.index[-1].year - df.index[0].year} years of data is available\")"
   ]
  },
  {
   "cell_type": "markdown",
   "id": "d2c7a8de",
   "metadata": {},
   "source": [
    "## Scaling"
   ]
  },
  {
   "cell_type": "code",
   "execution_count": 23,
   "id": "c5acab26",
   "metadata": {},
   "outputs": [],
   "source": [
    "from sklearn.preprocessing import MinMaxScaler\n",
    "scaler = MinMaxScaler(feature_range=(0,1))"
   ]
  },
  {
   "cell_type": "code",
   "execution_count": 24,
   "id": "0b85dc05",
   "metadata": {},
   "outputs": [
    {
     "data": {
      "text/plain": [
       "array([[1.        ],\n",
       "       [0.94495074],\n",
       "       [0.89264763],\n",
       "       ...,\n",
       "       [0.20047434],\n",
       "       [0.20009987],\n",
       "       [0.19111222]])"
      ]
     },
     "execution_count": 24,
     "metadata": {},
     "output_type": "execute_result"
    }
   ],
   "source": [
    "data_training_arr = scaler.fit_transform(data_training)\n",
    "data_training_arr"
   ]
  },
  {
   "cell_type": "code",
   "execution_count": 25,
   "id": "dc2b4504",
   "metadata": {},
   "outputs": [],
   "source": [
    "#time series analogy that a value for a particular day is dependent on the previous set of values, for that we took 100 set\n",
    "#of previous values\n",
    "import numpy as np\n",
    "x_train = [] #100 days would become x_train that is feature, and next observations would be predictive class\n",
    "y_train = []\n",
    "\n",
    "for i in range(100,data_training_arr.shape[0]):\n",
    "    x_train.append(data_training_arr[i-100:i])\n",
    "    y_train.append(data_training_arr[i,0])\n",
    "\n",
    "x_train, y_train = np.array(x_train), np.array(y_train)"
   ]
  },
  {
   "cell_type": "markdown",
   "id": "aec76a8a",
   "metadata": {},
   "source": [
    "## LSTM model with different layers and last one is a Dense layer"
   ]
  },
  {
   "cell_type": "code",
   "execution_count": 26,
   "id": "a0b6fffe",
   "metadata": {},
   "outputs": [],
   "source": [
    "from keras.layers import Dense, Dropout, LSTM\n",
    "from keras.models import Sequential"
   ]
  },
  {
   "cell_type": "code",
   "execution_count": 31,
   "id": "4bc91905",
   "metadata": {},
   "outputs": [
    {
     "name": "stderr",
     "output_type": "stream",
     "text": [
      "C:\\Users\\rohit\\anaconda3\\lib\\site-packages\\keras\\src\\layers\\rnn\\rnn.py:204: UserWarning: Do not pass an `input_shape`/`input_dim` argument to a layer. When using Sequential models, prefer using an `Input(shape)` object as the first layer in the model instead.\n",
      "  super().__init__(**kwargs)\n"
     ]
    }
   ],
   "source": [
    "model = Sequential()\n",
    "model.add(LSTM(units=50,activation='relu',return_sequences=True,input_shape=(x_train.shape[1],1)))\n",
    "model.add(Dropout(0.2))\n",
    "\n",
    "model.add(LSTM(units=60,activation='relu',return_sequences=True))\n",
    "model.add(Dropout(0.3))\n",
    "\n",
    "model.add(LSTM(units=80,activation='relu',return_sequences=True))\n",
    "model.add(Dropout(0.4))\n",
    "\n",
    "model.add(LSTM(units=120,activation='relu')) #last layer\n",
    "model.add(Dropout(0.5))\n",
    "\n",
    "model.add(Dense(units=1)) #colse column"
   ]
  },
  {
   "cell_type": "markdown",
   "id": "b55fb803",
   "metadata": {},
   "source": [
    "x_train.shape[1],1 used 1 at last because we are predicting only single column that is close"
   ]
  },
  {
   "cell_type": "code",
   "execution_count": 33,
   "id": "2ca0222e",
   "metadata": {},
   "outputs": [
    {
     "data": {
      "text/html": [
       "<pre style=\"white-space:pre;overflow-x:auto;line-height:normal;font-family:Menlo,'DejaVu Sans Mono',consolas,'Courier New',monospace\"><span style=\"font-weight: bold\">Model: \"sequential_2\"</span>\n",
       "</pre>\n"
      ],
      "text/plain": [
       "\u001b[1mModel: \"sequential_2\"\u001b[0m\n"
      ]
     },
     "metadata": {},
     "output_type": "display_data"
    },
    {
     "data": {
      "text/html": [
       "<pre style=\"white-space:pre;overflow-x:auto;line-height:normal;font-family:Menlo,'DejaVu Sans Mono',consolas,'Courier New',monospace\">┏━━━━━━━━━━━━━━━━━━━━━━━━━━━━━━━━━━━━━━┳━━━━━━━━━━━━━━━━━━━━━━━━━━━━━┳━━━━━━━━━━━━━━━━━┓\n",
       "┃<span style=\"font-weight: bold\"> Layer (type)                         </span>┃<span style=\"font-weight: bold\"> Output Shape                </span>┃<span style=\"font-weight: bold\">         Param # </span>┃\n",
       "┡━━━━━━━━━━━━━━━━━━━━━━━━━━━━━━━━━━━━━━╇━━━━━━━━━━━━━━━━━━━━━━━━━━━━━╇━━━━━━━━━━━━━━━━━┩\n",
       "│ lstm_2 (<span style=\"color: #0087ff; text-decoration-color: #0087ff\">LSTM</span>)                        │ (<span style=\"color: #00d7ff; text-decoration-color: #00d7ff\">None</span>, <span style=\"color: #00af00; text-decoration-color: #00af00\">100</span>, <span style=\"color: #00af00; text-decoration-color: #00af00\">50</span>)             │          <span style=\"color: #00af00; text-decoration-color: #00af00\">10,400</span> │\n",
       "├──────────────────────────────────────┼─────────────────────────────┼─────────────────┤\n",
       "│ dropout (<span style=\"color: #0087ff; text-decoration-color: #0087ff\">Dropout</span>)                    │ (<span style=\"color: #00d7ff; text-decoration-color: #00d7ff\">None</span>, <span style=\"color: #00af00; text-decoration-color: #00af00\">100</span>, <span style=\"color: #00af00; text-decoration-color: #00af00\">50</span>)             │               <span style=\"color: #00af00; text-decoration-color: #00af00\">0</span> │\n",
       "├──────────────────────────────────────┼─────────────────────────────┼─────────────────┤\n",
       "│ lstm_3 (<span style=\"color: #0087ff; text-decoration-color: #0087ff\">LSTM</span>)                        │ (<span style=\"color: #00d7ff; text-decoration-color: #00d7ff\">None</span>, <span style=\"color: #00af00; text-decoration-color: #00af00\">100</span>, <span style=\"color: #00af00; text-decoration-color: #00af00\">60</span>)             │          <span style=\"color: #00af00; text-decoration-color: #00af00\">26,640</span> │\n",
       "├──────────────────────────────────────┼─────────────────────────────┼─────────────────┤\n",
       "│ dropout_1 (<span style=\"color: #0087ff; text-decoration-color: #0087ff\">Dropout</span>)                  │ (<span style=\"color: #00d7ff; text-decoration-color: #00d7ff\">None</span>, <span style=\"color: #00af00; text-decoration-color: #00af00\">100</span>, <span style=\"color: #00af00; text-decoration-color: #00af00\">60</span>)             │               <span style=\"color: #00af00; text-decoration-color: #00af00\">0</span> │\n",
       "├──────────────────────────────────────┼─────────────────────────────┼─────────────────┤\n",
       "│ lstm_4 (<span style=\"color: #0087ff; text-decoration-color: #0087ff\">LSTM</span>)                        │ (<span style=\"color: #00d7ff; text-decoration-color: #00d7ff\">None</span>, <span style=\"color: #00af00; text-decoration-color: #00af00\">100</span>, <span style=\"color: #00af00; text-decoration-color: #00af00\">80</span>)             │          <span style=\"color: #00af00; text-decoration-color: #00af00\">45,120</span> │\n",
       "├──────────────────────────────────────┼─────────────────────────────┼─────────────────┤\n",
       "│ dropout_2 (<span style=\"color: #0087ff; text-decoration-color: #0087ff\">Dropout</span>)                  │ (<span style=\"color: #00d7ff; text-decoration-color: #00d7ff\">None</span>, <span style=\"color: #00af00; text-decoration-color: #00af00\">100</span>, <span style=\"color: #00af00; text-decoration-color: #00af00\">80</span>)             │               <span style=\"color: #00af00; text-decoration-color: #00af00\">0</span> │\n",
       "├──────────────────────────────────────┼─────────────────────────────┼─────────────────┤\n",
       "│ lstm_5 (<span style=\"color: #0087ff; text-decoration-color: #0087ff\">LSTM</span>)                        │ (<span style=\"color: #00d7ff; text-decoration-color: #00d7ff\">None</span>, <span style=\"color: #00af00; text-decoration-color: #00af00\">120</span>)                 │          <span style=\"color: #00af00; text-decoration-color: #00af00\">96,480</span> │\n",
       "├──────────────────────────────────────┼─────────────────────────────┼─────────────────┤\n",
       "│ dropout_3 (<span style=\"color: #0087ff; text-decoration-color: #0087ff\">Dropout</span>)                  │ (<span style=\"color: #00d7ff; text-decoration-color: #00d7ff\">None</span>, <span style=\"color: #00af00; text-decoration-color: #00af00\">120</span>)                 │               <span style=\"color: #00af00; text-decoration-color: #00af00\">0</span> │\n",
       "├──────────────────────────────────────┼─────────────────────────────┼─────────────────┤\n",
       "│ dense (<span style=\"color: #0087ff; text-decoration-color: #0087ff\">Dense</span>)                        │ (<span style=\"color: #00d7ff; text-decoration-color: #00d7ff\">None</span>, <span style=\"color: #00af00; text-decoration-color: #00af00\">1</span>)                   │             <span style=\"color: #00af00; text-decoration-color: #00af00\">121</span> │\n",
       "└──────────────────────────────────────┴─────────────────────────────┴─────────────────┘\n",
       "</pre>\n"
      ],
      "text/plain": [
       "┏━━━━━━━━━━━━━━━━━━━━━━━━━━━━━━━━━━━━━━┳━━━━━━━━━━━━━━━━━━━━━━━━━━━━━┳━━━━━━━━━━━━━━━━━┓\n",
       "┃\u001b[1m \u001b[0m\u001b[1mLayer (type)                        \u001b[0m\u001b[1m \u001b[0m┃\u001b[1m \u001b[0m\u001b[1mOutput Shape               \u001b[0m\u001b[1m \u001b[0m┃\u001b[1m \u001b[0m\u001b[1m        Param #\u001b[0m\u001b[1m \u001b[0m┃\n",
       "┡━━━━━━━━━━━━━━━━━━━━━━━━━━━━━━━━━━━━━━╇━━━━━━━━━━━━━━━━━━━━━━━━━━━━━╇━━━━━━━━━━━━━━━━━┩\n",
       "│ lstm_2 (\u001b[38;5;33mLSTM\u001b[0m)                        │ (\u001b[38;5;45mNone\u001b[0m, \u001b[38;5;34m100\u001b[0m, \u001b[38;5;34m50\u001b[0m)             │          \u001b[38;5;34m10,400\u001b[0m │\n",
       "├──────────────────────────────────────┼─────────────────────────────┼─────────────────┤\n",
       "│ dropout (\u001b[38;5;33mDropout\u001b[0m)                    │ (\u001b[38;5;45mNone\u001b[0m, \u001b[38;5;34m100\u001b[0m, \u001b[38;5;34m50\u001b[0m)             │               \u001b[38;5;34m0\u001b[0m │\n",
       "├──────────────────────────────────────┼─────────────────────────────┼─────────────────┤\n",
       "│ lstm_3 (\u001b[38;5;33mLSTM\u001b[0m)                        │ (\u001b[38;5;45mNone\u001b[0m, \u001b[38;5;34m100\u001b[0m, \u001b[38;5;34m60\u001b[0m)             │          \u001b[38;5;34m26,640\u001b[0m │\n",
       "├──────────────────────────────────────┼─────────────────────────────┼─────────────────┤\n",
       "│ dropout_1 (\u001b[38;5;33mDropout\u001b[0m)                  │ (\u001b[38;5;45mNone\u001b[0m, \u001b[38;5;34m100\u001b[0m, \u001b[38;5;34m60\u001b[0m)             │               \u001b[38;5;34m0\u001b[0m │\n",
       "├──────────────────────────────────────┼─────────────────────────────┼─────────────────┤\n",
       "│ lstm_4 (\u001b[38;5;33mLSTM\u001b[0m)                        │ (\u001b[38;5;45mNone\u001b[0m, \u001b[38;5;34m100\u001b[0m, \u001b[38;5;34m80\u001b[0m)             │          \u001b[38;5;34m45,120\u001b[0m │\n",
       "├──────────────────────────────────────┼─────────────────────────────┼─────────────────┤\n",
       "│ dropout_2 (\u001b[38;5;33mDropout\u001b[0m)                  │ (\u001b[38;5;45mNone\u001b[0m, \u001b[38;5;34m100\u001b[0m, \u001b[38;5;34m80\u001b[0m)             │               \u001b[38;5;34m0\u001b[0m │\n",
       "├──────────────────────────────────────┼─────────────────────────────┼─────────────────┤\n",
       "│ lstm_5 (\u001b[38;5;33mLSTM\u001b[0m)                        │ (\u001b[38;5;45mNone\u001b[0m, \u001b[38;5;34m120\u001b[0m)                 │          \u001b[38;5;34m96,480\u001b[0m │\n",
       "├──────────────────────────────────────┼─────────────────────────────┼─────────────────┤\n",
       "│ dropout_3 (\u001b[38;5;33mDropout\u001b[0m)                  │ (\u001b[38;5;45mNone\u001b[0m, \u001b[38;5;34m120\u001b[0m)                 │               \u001b[38;5;34m0\u001b[0m │\n",
       "├──────────────────────────────────────┼─────────────────────────────┼─────────────────┤\n",
       "│ dense (\u001b[38;5;33mDense\u001b[0m)                        │ (\u001b[38;5;45mNone\u001b[0m, \u001b[38;5;34m1\u001b[0m)                   │             \u001b[38;5;34m121\u001b[0m │\n",
       "└──────────────────────────────────────┴─────────────────────────────┴─────────────────┘\n"
      ]
     },
     "metadata": {},
     "output_type": "display_data"
    },
    {
     "data": {
      "text/html": [
       "<pre style=\"white-space:pre;overflow-x:auto;line-height:normal;font-family:Menlo,'DejaVu Sans Mono',consolas,'Courier New',monospace\"><span style=\"font-weight: bold\"> Total params: </span><span style=\"color: #00af00; text-decoration-color: #00af00\">178,761</span> (698.29 KB)\n",
       "</pre>\n"
      ],
      "text/plain": [
       "\u001b[1m Total params: \u001b[0m\u001b[38;5;34m178,761\u001b[0m (698.29 KB)\n"
      ]
     },
     "metadata": {},
     "output_type": "display_data"
    },
    {
     "data": {
      "text/html": [
       "<pre style=\"white-space:pre;overflow-x:auto;line-height:normal;font-family:Menlo,'DejaVu Sans Mono',consolas,'Courier New',monospace\"><span style=\"font-weight: bold\"> Trainable params: </span><span style=\"color: #00af00; text-decoration-color: #00af00\">178,761</span> (698.29 KB)\n",
       "</pre>\n"
      ],
      "text/plain": [
       "\u001b[1m Trainable params: \u001b[0m\u001b[38;5;34m178,761\u001b[0m (698.29 KB)\n"
      ]
     },
     "metadata": {},
     "output_type": "display_data"
    },
    {
     "data": {
      "text/html": [
       "<pre style=\"white-space:pre;overflow-x:auto;line-height:normal;font-family:Menlo,'DejaVu Sans Mono',consolas,'Courier New',monospace\"><span style=\"font-weight: bold\"> Non-trainable params: </span><span style=\"color: #00af00; text-decoration-color: #00af00\">0</span> (0.00 B)\n",
       "</pre>\n"
      ],
      "text/plain": [
       "\u001b[1m Non-trainable params: \u001b[0m\u001b[38;5;34m0\u001b[0m (0.00 B)\n"
      ]
     },
     "metadata": {},
     "output_type": "display_data"
    }
   ],
   "source": [
    "model.summary()"
   ]
  },
  {
   "cell_type": "code",
   "execution_count": 34,
   "id": "5d9f92a2",
   "metadata": {},
   "outputs": [
    {
     "name": "stdout",
     "output_type": "stream",
     "text": [
      "Epoch 1/50\n",
      "\u001b[1m31/31\u001b[0m \u001b[32m━━━━━━━━━━━━━━━━━━━━\u001b[0m\u001b[37m\u001b[0m \u001b[1m18s\u001b[0m 256ms/step - loss: 0.0144\n",
      "Epoch 2/50\n",
      "\u001b[1m31/31\u001b[0m \u001b[32m━━━━━━━━━━━━━━━━━━━━\u001b[0m\u001b[37m\u001b[0m \u001b[1m8s\u001b[0m 239ms/step - loss: 0.0034\n",
      "Epoch 3/50\n",
      "\u001b[1m31/31\u001b[0m \u001b[32m━━━━━━━━━━━━━━━━━━━━\u001b[0m\u001b[37m\u001b[0m \u001b[1m8s\u001b[0m 245ms/step - loss: 0.0021\n",
      "Epoch 4/50\n",
      "\u001b[1m31/31\u001b[0m \u001b[32m━━━━━━━━━━━━━━━━━━━━\u001b[0m\u001b[37m\u001b[0m \u001b[1m7s\u001b[0m 235ms/step - loss: 0.0017\n",
      "Epoch 5/50\n",
      "\u001b[1m31/31\u001b[0m \u001b[32m━━━━━━━━━━━━━━━━━━━━\u001b[0m\u001b[37m\u001b[0m \u001b[1m8s\u001b[0m 259ms/step - loss: 0.0016\n",
      "Epoch 6/50\n",
      "\u001b[1m31/31\u001b[0m \u001b[32m━━━━━━━━━━━━━━━━━━━━\u001b[0m\u001b[37m\u001b[0m \u001b[1m8s\u001b[0m 268ms/step - loss: 0.0020\n",
      "Epoch 7/50\n",
      "\u001b[1m31/31\u001b[0m \u001b[32m━━━━━━━━━━━━━━━━━━━━\u001b[0m\u001b[37m\u001b[0m \u001b[1m8s\u001b[0m 264ms/step - loss: 0.0015\n",
      "Epoch 8/50\n",
      "\u001b[1m31/31\u001b[0m \u001b[32m━━━━━━━━━━━━━━━━━━━━\u001b[0m\u001b[37m\u001b[0m \u001b[1m8s\u001b[0m 265ms/step - loss: 0.0013\n",
      "Epoch 9/50\n",
      "\u001b[1m31/31\u001b[0m \u001b[32m━━━━━━━━━━━━━━━━━━━━\u001b[0m\u001b[37m\u001b[0m \u001b[1m8s\u001b[0m 270ms/step - loss: 0.0014\n",
      "Epoch 10/50\n",
      "\u001b[1m31/31\u001b[0m \u001b[32m━━━━━━━━━━━━━━━━━━━━\u001b[0m\u001b[37m\u001b[0m \u001b[1m9s\u001b[0m 273ms/step - loss: 0.0013\n",
      "Epoch 11/50\n",
      "\u001b[1m31/31\u001b[0m \u001b[32m━━━━━━━━━━━━━━━━━━━━\u001b[0m\u001b[37m\u001b[0m \u001b[1m10s\u001b[0m 267ms/step - loss: 0.0010\n",
      "Epoch 12/50\n",
      "\u001b[1m31/31\u001b[0m \u001b[32m━━━━━━━━━━━━━━━━━━━━\u001b[0m\u001b[37m\u001b[0m \u001b[1m8s\u001b[0m 268ms/step - loss: 0.0010\n",
      "Epoch 13/50\n",
      "\u001b[1m31/31\u001b[0m \u001b[32m━━━━━━━━━━━━━━━━━━━━\u001b[0m\u001b[37m\u001b[0m \u001b[1m9s\u001b[0m 283ms/step - loss: 0.0011\n",
      "Epoch 14/50\n",
      "\u001b[1m31/31\u001b[0m \u001b[32m━━━━━━━━━━━━━━━━━━━━\u001b[0m\u001b[37m\u001b[0m \u001b[1m9s\u001b[0m 280ms/step - loss: 0.0010\n",
      "Epoch 15/50\n",
      "\u001b[1m31/31\u001b[0m \u001b[32m━━━━━━━━━━━━━━━━━━━━\u001b[0m\u001b[37m\u001b[0m \u001b[1m9s\u001b[0m 274ms/step - loss: 0.0010   \n",
      "Epoch 16/50\n",
      "\u001b[1m31/31\u001b[0m \u001b[32m━━━━━━━━━━━━━━━━━━━━\u001b[0m\u001b[37m\u001b[0m \u001b[1m9s\u001b[0m 277ms/step - loss: 0.0011\n",
      "Epoch 17/50\n",
      "\u001b[1m31/31\u001b[0m \u001b[32m━━━━━━━━━━━━━━━━━━━━\u001b[0m\u001b[37m\u001b[0m \u001b[1m9s\u001b[0m 276ms/step - loss: 9.1184e-04\n",
      "Epoch 18/50\n",
      "\u001b[1m31/31\u001b[0m \u001b[32m━━━━━━━━━━━━━━━━━━━━\u001b[0m\u001b[37m\u001b[0m \u001b[1m8s\u001b[0m 260ms/step - loss: 8.7424e-04\n",
      "Epoch 19/50\n",
      "\u001b[1m31/31\u001b[0m \u001b[32m━━━━━━━━━━━━━━━━━━━━\u001b[0m\u001b[37m\u001b[0m \u001b[1m8s\u001b[0m 263ms/step - loss: 7.4355e-04\n",
      "Epoch 20/50\n",
      "\u001b[1m31/31\u001b[0m \u001b[32m━━━━━━━━━━━━━━━━━━━━\u001b[0m\u001b[37m\u001b[0m \u001b[1m8s\u001b[0m 260ms/step - loss: 8.9392e-04\n",
      "Epoch 21/50\n",
      "\u001b[1m31/31\u001b[0m \u001b[32m━━━━━━━━━━━━━━━━━━━━\u001b[0m\u001b[37m\u001b[0m \u001b[1m8s\u001b[0m 259ms/step - loss: 8.4719e-04\n",
      "Epoch 22/50\n",
      "\u001b[1m31/31\u001b[0m \u001b[32m━━━━━━━━━━━━━━━━━━━━\u001b[0m\u001b[37m\u001b[0m \u001b[1m8s\u001b[0m 263ms/step - loss: 8.3730e-04\n",
      "Epoch 23/50\n",
      "\u001b[1m31/31\u001b[0m \u001b[32m━━━━━━━━━━━━━━━━━━━━\u001b[0m\u001b[37m\u001b[0m \u001b[1m8s\u001b[0m 260ms/step - loss: 8.4566e-04\n",
      "Epoch 24/50\n",
      "\u001b[1m31/31\u001b[0m \u001b[32m━━━━━━━━━━━━━━━━━━━━\u001b[0m\u001b[37m\u001b[0m \u001b[1m8s\u001b[0m 260ms/step - loss: 7.8695e-04\n",
      "Epoch 25/50\n",
      "\u001b[1m31/31\u001b[0m \u001b[32m━━━━━━━━━━━━━━━━━━━━\u001b[0m\u001b[37m\u001b[0m \u001b[1m7s\u001b[0m 235ms/step - loss: 9.5313e-04\n",
      "Epoch 26/50\n",
      "\u001b[1m31/31\u001b[0m \u001b[32m━━━━━━━━━━━━━━━━━━━━\u001b[0m\u001b[37m\u001b[0m \u001b[1m8s\u001b[0m 243ms/step - loss: 0.0010\n",
      "Epoch 27/50\n",
      "\u001b[1m31/31\u001b[0m \u001b[32m━━━━━━━━━━━━━━━━━━━━\u001b[0m\u001b[37m\u001b[0m \u001b[1m7s\u001b[0m 235ms/step - loss: 9.0226e-04\n",
      "Epoch 28/50\n",
      "\u001b[1m31/31\u001b[0m \u001b[32m━━━━━━━━━━━━━━━━━━━━\u001b[0m\u001b[37m\u001b[0m \u001b[1m7s\u001b[0m 230ms/step - loss: 6.9421e-04\n",
      "Epoch 29/50\n",
      "\u001b[1m31/31\u001b[0m \u001b[32m━━━━━━━━━━━━━━━━━━━━\u001b[0m\u001b[37m\u001b[0m \u001b[1m8s\u001b[0m 243ms/step - loss: 7.9186e-04\n",
      "Epoch 30/50\n",
      "\u001b[1m31/31\u001b[0m \u001b[32m━━━━━━━━━━━━━━━━━━━━\u001b[0m\u001b[37m\u001b[0m \u001b[1m8s\u001b[0m 247ms/step - loss: 7.5495e-04\n",
      "Epoch 31/50\n",
      "\u001b[1m31/31\u001b[0m \u001b[32m━━━━━━━━━━━━━━━━━━━━\u001b[0m\u001b[37m\u001b[0m \u001b[1m8s\u001b[0m 244ms/step - loss: 6.7222e-04\n",
      "Epoch 32/50\n",
      "\u001b[1m31/31\u001b[0m \u001b[32m━━━━━━━━━━━━━━━━━━━━\u001b[0m\u001b[37m\u001b[0m \u001b[1m7s\u001b[0m 240ms/step - loss: 6.8560e-04\n",
      "Epoch 33/50\n",
      "\u001b[1m31/31\u001b[0m \u001b[32m━━━━━━━━━━━━━━━━━━━━\u001b[0m\u001b[37m\u001b[0m \u001b[1m7s\u001b[0m 238ms/step - loss: 7.7216e-04\n",
      "Epoch 34/50\n",
      "\u001b[1m31/31\u001b[0m \u001b[32m━━━━━━━━━━━━━━━━━━━━\u001b[0m\u001b[37m\u001b[0m \u001b[1m8s\u001b[0m 243ms/step - loss: 5.9106e-04\n",
      "Epoch 35/50\n",
      "\u001b[1m31/31\u001b[0m \u001b[32m━━━━━━━━━━━━━━━━━━━━\u001b[0m\u001b[37m\u001b[0m \u001b[1m8s\u001b[0m 244ms/step - loss: 5.8348e-04\n",
      "Epoch 36/50\n",
      "\u001b[1m31/31\u001b[0m \u001b[32m━━━━━━━━━━━━━━━━━━━━\u001b[0m\u001b[37m\u001b[0m \u001b[1m7s\u001b[0m 240ms/step - loss: 6.2605e-04\n",
      "Epoch 37/50\n",
      "\u001b[1m31/31\u001b[0m \u001b[32m━━━━━━━━━━━━━━━━━━━━\u001b[0m\u001b[37m\u001b[0m \u001b[1m7s\u001b[0m 239ms/step - loss: 6.1580e-04\n",
      "Epoch 38/50\n",
      "\u001b[1m31/31\u001b[0m \u001b[32m━━━━━━━━━━━━━━━━━━━━\u001b[0m\u001b[37m\u001b[0m \u001b[1m8s\u001b[0m 240ms/step - loss: 7.1010e-04\n",
      "Epoch 39/50\n",
      "\u001b[1m31/31\u001b[0m \u001b[32m━━━━━━━━━━━━━━━━━━━━\u001b[0m\u001b[37m\u001b[0m \u001b[1m8s\u001b[0m 246ms/step - loss: 5.9500e-04\n",
      "Epoch 40/50\n",
      "\u001b[1m31/31\u001b[0m \u001b[32m━━━━━━━━━━━━━━━━━━━━\u001b[0m\u001b[37m\u001b[0m \u001b[1m8s\u001b[0m 241ms/step - loss: 6.7804e-04\n",
      "Epoch 41/50\n",
      "\u001b[1m31/31\u001b[0m \u001b[32m━━━━━━━━━━━━━━━━━━━━\u001b[0m\u001b[37m\u001b[0m \u001b[1m7s\u001b[0m 239ms/step - loss: 6.3663e-04\n",
      "Epoch 42/50\n",
      "\u001b[1m31/31\u001b[0m \u001b[32m━━━━━━━━━━━━━━━━━━━━\u001b[0m\u001b[37m\u001b[0m \u001b[1m7s\u001b[0m 238ms/step - loss: 5.0746e-04\n",
      "Epoch 43/50\n",
      "\u001b[1m31/31\u001b[0m \u001b[32m━━━━━━━━━━━━━━━━━━━━\u001b[0m\u001b[37m\u001b[0m \u001b[1m7s\u001b[0m 237ms/step - loss: 4.9674e-04\n",
      "Epoch 44/50\n",
      "\u001b[1m31/31\u001b[0m \u001b[32m━━━━━━━━━━━━━━━━━━━━\u001b[0m\u001b[37m\u001b[0m \u001b[1m8s\u001b[0m 242ms/step - loss: 5.9227e-04\n",
      "Epoch 45/50\n",
      "\u001b[1m31/31\u001b[0m \u001b[32m━━━━━━━━━━━━━━━━━━━━\u001b[0m\u001b[37m\u001b[0m \u001b[1m7s\u001b[0m 232ms/step - loss: 5.8844e-04\n",
      "Epoch 46/50\n",
      "\u001b[1m31/31\u001b[0m \u001b[32m━━━━━━━━━━━━━━━━━━━━\u001b[0m\u001b[37m\u001b[0m \u001b[1m7s\u001b[0m 239ms/step - loss: 5.4771e-04\n",
      "Epoch 47/50\n",
      "\u001b[1m31/31\u001b[0m \u001b[32m━━━━━━━━━━━━━━━━━━━━\u001b[0m\u001b[37m\u001b[0m \u001b[1m7s\u001b[0m 240ms/step - loss: 5.3372e-04\n",
      "Epoch 48/50\n",
      "\u001b[1m31/31\u001b[0m \u001b[32m━━━━━━━━━━━━━━━━━━━━\u001b[0m\u001b[37m\u001b[0m \u001b[1m7s\u001b[0m 236ms/step - loss: 5.5006e-04\n",
      "Epoch 49/50\n",
      "\u001b[1m31/31\u001b[0m \u001b[32m━━━━━━━━━━━━━━━━━━━━\u001b[0m\u001b[37m\u001b[0m \u001b[1m7s\u001b[0m 231ms/step - loss: 4.7254e-04\n",
      "Epoch 50/50\n",
      "\u001b[1m31/31\u001b[0m \u001b[32m━━━━━━━━━━━━━━━━━━━━\u001b[0m\u001b[37m\u001b[0m \u001b[1m11s\u001b[0m 239ms/step - loss: 4.6859e-04\n"
     ]
    },
    {
     "data": {
      "text/plain": [
       "<keras.src.callbacks.history.History at 0x1f746389a90>"
      ]
     },
     "execution_count": 34,
     "metadata": {},
     "output_type": "execute_result"
    }
   ],
   "source": [
    "model.compile(optimizer='adam',loss='mean_squared_error')\n",
    "model.fit(x_train,y_train,epochs=50)"
   ]
  },
  {
   "cell_type": "code",
   "execution_count": 35,
   "id": "2a03df59",
   "metadata": {},
   "outputs": [
    {
     "name": "stderr",
     "output_type": "stream",
     "text": [
      "WARNING:absl:You are saving your model as an HDF5 file via `model.save()` or `keras.saving.save_model(model)`. This file format is considered legacy. We recommend using instead the native Keras format, e.g. `model.save('my_model.keras')` or `keras.saving.save_model(model, 'my_model.keras')`. \n"
     ]
    }
   ],
   "source": [
    "model.save('keras_model.h5')"
   ]
  },
  {
   "cell_type": "code",
   "execution_count": 36,
   "id": "6d8e1c3f",
   "metadata": {},
   "outputs": [],
   "source": [
    "model.save('my_model.keras')"
   ]
  },
  {
   "cell_type": "markdown",
   "id": "09851820",
   "metadata": {},
   "source": [
    "## Making Predictions on Testing Data"
   ]
  },
  {
   "cell_type": "code",
   "execution_count": 37,
   "id": "0189d2ea",
   "metadata": {},
   "outputs": [
    {
     "data": {
      "text/html": [
       "<div>\n",
       "<style scoped>\n",
       "    .dataframe tbody tr th:only-of-type {\n",
       "        vertical-align: middle;\n",
       "    }\n",
       "\n",
       "    .dataframe tbody tr th {\n",
       "        vertical-align: top;\n",
       "    }\n",
       "\n",
       "    .dataframe thead th {\n",
       "        text-align: right;\n",
       "    }\n",
       "</style>\n",
       "<table border=\"1\" class=\"dataframe\">\n",
       "  <thead>\n",
       "    <tr style=\"text-align: right;\">\n",
       "      <th></th>\n",
       "      <th>Close</th>\n",
       "    </tr>\n",
       "    <tr>\n",
       "      <th>Date</th>\n",
       "      <th></th>\n",
       "    </tr>\n",
       "  </thead>\n",
       "  <tbody>\n",
       "    <tr>\n",
       "      <th>2022-05-20</th>\n",
       "      <td>12.050</td>\n",
       "    </tr>\n",
       "    <tr>\n",
       "      <th>2022-05-23</th>\n",
       "      <td>11.885</td>\n",
       "    </tr>\n",
       "    <tr>\n",
       "      <th>2022-05-24</th>\n",
       "      <td>11.810</td>\n",
       "    </tr>\n",
       "    <tr>\n",
       "      <th>2022-05-25</th>\n",
       "      <td>11.265</td>\n",
       "    </tr>\n",
       "    <tr>\n",
       "      <th>2022-05-26</th>\n",
       "      <td>11.400</td>\n",
       "    </tr>\n",
       "  </tbody>\n",
       "</table>\n",
       "</div>"
      ],
      "text/plain": [
       "             Close\n",
       "Date              \n",
       "2022-05-20  12.050\n",
       "2022-05-23  11.885\n",
       "2022-05-24  11.810\n",
       "2022-05-25  11.265\n",
       "2022-05-26  11.400"
      ]
     },
     "execution_count": 37,
     "metadata": {},
     "output_type": "execute_result"
    }
   ],
   "source": [
    "data_testing.head()"
   ]
  },
  {
   "cell_type": "markdown",
   "id": "f7b27551",
   "metadata": {},
   "source": [
    "Merging past 100 records from training set to make predicitions according to that"
   ]
  },
  {
   "cell_type": "code",
   "execution_count": 42,
   "id": "a473aa9e",
   "metadata": {},
   "outputs": [],
   "source": [
    "past_100_days = data_training.tail(100)"
   ]
  },
  {
   "cell_type": "code",
   "execution_count": 43,
   "id": "a90563c3",
   "metadata": {},
   "outputs": [],
   "source": [
    "final_df = past_100_days.append(data_testing)"
   ]
  },
  {
   "cell_type": "code",
   "execution_count": 53,
   "id": "53a76459",
   "metadata": {},
   "outputs": [
    {
     "data": {
      "text/html": [
       "<div>\n",
       "<style scoped>\n",
       "    .dataframe tbody tr th:only-of-type {\n",
       "        vertical-align: middle;\n",
       "    }\n",
       "\n",
       "    .dataframe tbody tr th {\n",
       "        vertical-align: top;\n",
       "    }\n",
       "\n",
       "    .dataframe thead th {\n",
       "        text-align: right;\n",
       "    }\n",
       "</style>\n",
       "<table border=\"1\" class=\"dataframe\">\n",
       "  <thead>\n",
       "    <tr style=\"text-align: right;\">\n",
       "      <th></th>\n",
       "      <th>Close</th>\n",
       "    </tr>\n",
       "    <tr>\n",
       "      <th>Date</th>\n",
       "      <th></th>\n",
       "    </tr>\n",
       "  </thead>\n",
       "  <tbody>\n",
       "    <tr>\n",
       "      <th>2021-12-23</th>\n",
       "      <td>11.985</td>\n",
       "    </tr>\n",
       "    <tr>\n",
       "      <th>2021-12-24</th>\n",
       "      <td>12.670</td>\n",
       "    </tr>\n",
       "    <tr>\n",
       "      <th>2021-12-27</th>\n",
       "      <td>14.320</td>\n",
       "    </tr>\n",
       "    <tr>\n",
       "      <th>2021-12-28</th>\n",
       "      <td>14.140</td>\n",
       "    </tr>\n",
       "    <tr>\n",
       "      <th>2021-12-29</th>\n",
       "      <td>13.715</td>\n",
       "    </tr>\n",
       "  </tbody>\n",
       "</table>\n",
       "</div>"
      ],
      "text/plain": [
       "             Close\n",
       "Date              \n",
       "2021-12-23  11.985\n",
       "2021-12-24  12.670\n",
       "2021-12-27  14.320\n",
       "2021-12-28  14.140\n",
       "2021-12-29  13.715"
      ]
     },
     "execution_count": 53,
     "metadata": {},
     "output_type": "execute_result"
    }
   ],
   "source": [
    "final_df.head()"
   ]
  },
  {
   "cell_type": "code",
   "execution_count": 54,
   "id": "80172ccb",
   "metadata": {},
   "outputs": [],
   "source": [
    "input_data = scaler.fit_transform(final_df)"
   ]
  },
  {
   "cell_type": "code",
   "execution_count": 55,
   "id": "c98cd274",
   "metadata": {},
   "outputs": [
    {
     "data": {
      "text/plain": [
       "array([[5.91487691e-03],\n",
       "       [1.07097840e-02],\n",
       "       [2.22595503e-02],\n",
       "       [2.09995801e-02],\n",
       "       [1.80246382e-02],\n",
       "       [3.68192586e-02],\n",
       "       [3.72042531e-02],\n",
       "       [5.01539968e-02],\n",
       "       [4.32941372e-02],\n",
       "       [4.03191886e-02],\n",
       "       [4.16141590e-02],\n",
       "       [3.94792129e-02],\n",
       "       [3.86042304e-02],\n",
       "       [3.33193286e-02],\n",
       "       [3.43343115e-02],\n",
       "       [3.17443641e-02],\n",
       "       [3.70992594e-02],\n",
       "       [3.35643293e-02],\n",
       "       [3.13943698e-02],\n",
       "       [3.00993927e-02],\n",
       "       [2.99593990e-02],\n",
       "       [2.87344222e-02],\n",
       "       [2.34145270e-02],\n",
       "       [2.17695623e-02],\n",
       "       [2.14895681e-02],\n",
       "       [2.28895388e-02],\n",
       "       [2.24695509e-02],\n",
       "       [2.15945684e-02],\n",
       "       [2.32045330e-02],\n",
       "       [2.25045444e-02],\n",
       "       [2.23295505e-02],\n",
       "       [1.85846265e-02],\n",
       "       [1.60646793e-02],\n",
       "       [1.91446148e-02],\n",
       "       [1.87946204e-02],\n",
       "       [1.63796668e-02],\n",
       "       [1.16897668e-02],\n",
       "       [1.34047317e-02],\n",
       "       [1.42797142e-02],\n",
       "       [1.09547780e-02],\n",
       "       [9.37980682e-03],\n",
       "       [1.35447254e-02],\n",
       "       [1.01847958e-02],\n",
       "       [1.07447841e-02],\n",
       "       [6.33487145e-03],\n",
       "       [6.05487731e-03],\n",
       "       [8.71482492e-03],\n",
       "       [9.34481339e-03],\n",
       "       [9.76480126e-03],\n",
       "       [5.66988288e-03],\n",
       "       [2.16995287e-03],\n",
       "       [5.28489512e-03],\n",
       "       [6.19487104e-03],\n",
       "       [6.08987742e-03],\n",
       "       [7.27985415e-03],\n",
       "       [9.65980763e-03],\n",
       "       [7.76984222e-03],\n",
       "       [9.79980136e-03],\n",
       "       [7.10485365e-03],\n",
       "       [7.55984829e-03],\n",
       "       [8.57482452e-03],\n",
       "       [8.32983049e-03],\n",
       "       [7.45484798e-03],\n",
       "       [7.90984262e-03],\n",
       "       [6.75485931e-03],\n",
       "       [6.26487125e-03],\n",
       "       [6.54486538e-03],\n",
       "       [5.03989441e-03],\n",
       "       [9.16981289e-03],\n",
       "       [1.35097253e-02],\n",
       "       [1.66946611e-02],\n",
       "       [1.67296612e-02],\n",
       "       [2.14895681e-02],\n",
       "       [2.40795155e-02],\n",
       "       [2.85594283e-02],\n",
       "       [2.47095040e-02],\n",
       "       [2.44295099e-02],\n",
       "       [2.90144163e-02],\n",
       "       [2.29595390e-02],\n",
       "       [2.39395218e-02],\n",
       "       [2.41145156e-02],\n",
       "       [2.36245276e-02],\n",
       "       [1.99495971e-02],\n",
       "       [2.08595797e-02],\n",
       "       [1.80596383e-02],\n",
       "       [1.71496557e-02],\n",
       "       [1.31597376e-02],\n",
       "       [1.39647199e-02],\n",
       "       [1.11647719e-02],\n",
       "       [1.02197959e-02],\n",
       "       [9.41480692e-03],\n",
       "       [8.11983655e-03],\n",
       "       [6.33487145e-03],\n",
       "       [2.76494124e-03],\n",
       "       [0.00000000e+00],\n",
       "       [2.20495297e-03],\n",
       "       [4.44490604e-03],\n",
       "       [7.06985355e-03],\n",
       "       [6.96485992e-03],\n",
       "       [4.44490604e-03],\n",
       "       [6.36987155e-03],\n",
       "       [5.21489491e-03],\n",
       "       [4.68990675e-03],\n",
       "       [8.74982502e-04],\n",
       "       [1.81995853e-03],\n",
       "       [4.16491191e-03],\n",
       "       [1.23547487e-02],\n",
       "       [1.51546967e-02],\n",
       "       [1.23197486e-02],\n",
       "       [1.21447547e-02],\n",
       "       [1.15147663e-02],\n",
       "       [1.54346908e-02],\n",
       "       [1.49446961e-02],\n",
       "       [1.43147143e-02],\n",
       "       [1.42447141e-02],\n",
       "       [1.23897488e-02],\n",
       "       [8.64482472e-03],\n",
       "       [8.78482513e-03],\n",
       "       [7.24485405e-03],\n",
       "       [4.09491838e-03],\n",
       "       [3.98991807e-03],\n",
       "       [9.44976029e-04],\n",
       "       [4.58490644e-03],\n",
       "       [3.67492384e-03],\n",
       "       [4.44490604e-03],\n",
       "       [7.52484819e-03],\n",
       "       [7.03486012e-03],\n",
       "       [6.43987175e-03],\n",
       "       [6.82485951e-03],\n",
       "       [5.21489491e-03],\n",
       "       [5.10989461e-03],\n",
       "       [5.31988854e-03],\n",
       "       [6.85985961e-03],\n",
       "       [1.25647493e-02],\n",
       "       [1.25297492e-02],\n",
       "       [1.26347428e-02],\n",
       "       [1.20047543e-02],\n",
       "       [1.33347315e-02],\n",
       "       [1.32997314e-02],\n",
       "       [1.27047430e-02],\n",
       "       [1.27397431e-02],\n",
       "       [1.58196786e-02],\n",
       "       [1.56446847e-02],\n",
       "       [1.73596496e-02],\n",
       "       [1.98096033e-02],\n",
       "       [1.72196559e-02],\n",
       "       [1.50146963e-02],\n",
       "       [1.34047317e-02],\n",
       "       [1.93196086e-02],\n",
       "       [2.09995801e-02],\n",
       "       [2.28895388e-02],\n",
       "       [2.15595683e-02],\n",
       "       [2.08595797e-02],\n",
       "       [1.80946384e-02],\n",
       "       [1.82346321e-02],\n",
       "       [1.79546380e-02],\n",
       "       [2.09295799e-02],\n",
       "       [2.25395445e-02],\n",
       "       [2.12095740e-02],\n",
       "       [1.90396144e-02],\n",
       "       [1.59946791e-02],\n",
       "       [1.57846851e-02],\n",
       "       [1.74646499e-02],\n",
       "       [1.69046617e-02],\n",
       "       [1.35797255e-02],\n",
       "       [1.53296905e-02],\n",
       "       [1.70446554e-02],\n",
       "       [1.74296498e-02],\n",
       "       [2.00895975e-02],\n",
       "       [2.85944284e-02],\n",
       "       [2.72294512e-02],\n",
       "       [2.68444634e-02],\n",
       "       [2.57244802e-02],\n",
       "       [3.17443641e-02],\n",
       "       [3.23743526e-02],\n",
       "       [3.24093527e-02],\n",
       "       [3.34943291e-02],\n",
       "       [3.38793169e-02],\n",
       "       [3.60142763e-02],\n",
       "       [3.24443461e-02],\n",
       "       [3.35643293e-02],\n",
       "       [3.50343002e-02],\n",
       "       [3.07293812e-02],\n",
       "       [4.00392012e-02],\n",
       "       [4.50090954e-02],\n",
       "       [4.05291892e-02],\n",
       "       [4.18591664e-02],\n",
       "       [3.60142763e-02],\n",
       "       [2.98893988e-02],\n",
       "       [3.01343928e-02],\n",
       "       [3.30393345e-02],\n",
       "       [4.73540554e-02],\n",
       "       [4.84040318e-02],\n",
       "       [4.90340202e-02],\n",
       "       [5.06439848e-02],\n",
       "       [5.47739033e-02],\n",
       "       [5.59288733e-02],\n",
       "       [5.30239383e-02],\n",
       "       [4.59540781e-02],\n",
       "       [6.12487685e-02],\n",
       "       [7.33235297e-02],\n",
       "       [8.76032505e-02],\n",
       "       [8.59582792e-02],\n",
       "       [8.38583265e-02],\n",
       "       [8.18633541e-02],\n",
       "       [7.39885116e-02],\n",
       "       [7.70334603e-02],\n",
       "       [8.36483259e-02],\n",
       "       [8.25983496e-02],\n",
       "       [7.69984535e-02],\n",
       "       [7.36385239e-02],\n",
       "       [7.08385826e-02],\n",
       "       [6.92286180e-02],\n",
       "       [7.27285480e-02],\n",
       "       [8.02533895e-02],\n",
       "       [8.59932726e-02],\n",
       "       [8.15833667e-02],\n",
       "       [8.35783257e-02],\n",
       "       [8.39983136e-02],\n",
       "       [8.65182674e-02],\n",
       "       [8.89332143e-02],\n",
       "       [9.25031446e-02],\n",
       "       [8.62732734e-02],\n",
       "       [8.37883263e-02],\n",
       "       [9.02631915e-02],\n",
       "       [9.50580919e-02],\n",
       "       [9.39031219e-02],\n",
       "       [9.20831567e-02],\n",
       "       [9.42881163e-02],\n",
       "       [9.51280921e-02],\n",
       "       [1.03772923e-01],\n",
       "       [1.12767743e-01],\n",
       "       [1.14587708e-01],\n",
       "       [1.10352796e-01],\n",
       "       [1.11332772e-01],\n",
       "       [1.16827661e-01],\n",
       "       [1.15742678e-01],\n",
       "       [1.12032760e-01],\n",
       "       [1.13747719e-01],\n",
       "       [1.05137894e-01],\n",
       "       [1.08742818e-01],\n",
       "       [1.15952678e-01],\n",
       "       [1.17142655e-01],\n",
       "       [1.17947637e-01],\n",
       "       [1.10492783e-01],\n",
       "       [1.12662749e-01],\n",
       "       [1.11962760e-01],\n",
       "       [1.11332772e-01],\n",
       "       [1.02197952e-01],\n",
       "       [9.32031332e-02],\n",
       "       [9.85930286e-02],\n",
       "       [9.98530056e-02],\n",
       "       [1.08742818e-01],\n",
       "       [1.16617660e-01],\n",
       "       [1.26312468e-01],\n",
       "       [1.35972282e-01],\n",
       "       [1.36707264e-01],\n",
       "       [1.44407113e-01],\n",
       "       [1.55501885e-01],\n",
       "       [1.52456936e-01],\n",
       "       [1.42377147e-01],\n",
       "       [1.37687240e-01],\n",
       "       [1.48467018e-01],\n",
       "       [1.45597090e-01],\n",
       "       [1.56061886e-01],\n",
       "       [1.49937009e-01],\n",
       "       [1.60576799e-01],\n",
       "       [1.61171781e-01],\n",
       "       [1.73001535e-01],\n",
       "       [1.76116470e-01],\n",
       "       [1.66736657e-01],\n",
       "       [1.64216703e-01],\n",
       "       [1.55151897e-01],\n",
       "       [1.43567124e-01],\n",
       "       [1.48397031e-01],\n",
       "       [1.45142095e-01],\n",
       "       [1.35867275e-01],\n",
       "       [1.37127252e-01],\n",
       "       [1.32332352e-01],\n",
       "       [1.32262352e-01],\n",
       "       [1.42762142e-01],\n",
       "       [1.53786927e-01],\n",
       "       [1.54871896e-01],\n",
       "       [1.64181723e-01],\n",
       "       [1.63026740e-01],\n",
       "       [1.55046903e-01],\n",
       "       [1.54626902e-01],\n",
       "       [1.50916985e-01],\n",
       "       [1.49552014e-01],\n",
       "       [1.51196986e-01],\n",
       "       [1.46927067e-01],\n",
       "       [1.43252130e-01],\n",
       "       [1.43217136e-01],\n",
       "       [1.38422236e-01],\n",
       "       [1.28552421e-01],\n",
       "       [1.32367345e-01],\n",
       "       [1.36987252e-01],\n",
       "       [1.33802316e-01],\n",
       "       [1.44372106e-01],\n",
       "       [1.41502165e-01],\n",
       "       [1.39052211e-01],\n",
       "       [1.43077136e-01],\n",
       "       [1.35377287e-01],\n",
       "       [1.29112409e-01],\n",
       "       [1.23687520e-01],\n",
       "       [1.23792527e-01],\n",
       "       [1.20502585e-01],\n",
       "       [1.22847545e-01],\n",
       "       [1.13187730e-01],\n",
       "       [1.20712585e-01],\n",
       "       [1.17667650e-01],\n",
       "       [1.18927613e-01],\n",
       "       [1.15637684e-01],\n",
       "       [1.06117870e-01],\n",
       "       [9.78580465e-02],\n",
       "       [1.06642865e-01],\n",
       "       [1.15847685e-01],\n",
       "       [1.25507486e-01],\n",
       "       [1.27747439e-01],\n",
       "       [1.22882538e-01],\n",
       "       [1.32892340e-01],\n",
       "       [1.43287136e-01],\n",
       "       [1.49586994e-01],\n",
       "       [1.47837029e-01],\n",
       "       [1.49202027e-01],\n",
       "       [1.44617100e-01],\n",
       "       [1.41922166e-01],\n",
       "       [1.39192211e-01],\n",
       "       [1.42482154e-01],\n",
       "       [1.41432164e-01],\n",
       "       [1.41537171e-01],\n",
       "       [1.40802176e-01],\n",
       "       [1.41677159e-01],\n",
       "       [1.41782165e-01],\n",
       "       [1.52736937e-01],\n",
       "       [1.53016938e-01],\n",
       "       [1.64566717e-01],\n",
       "       [1.59316822e-01],\n",
       "       [1.70516588e-01],\n",
       "       [1.74366505e-01],\n",
       "       [1.64916705e-01],\n",
       "       [1.64916705e-01],\n",
       "       [1.58966808e-01],\n",
       "       [1.58266833e-01],\n",
       "       [1.59316822e-01],\n",
       "       [1.58266833e-01],\n",
       "       [1.50916985e-01],\n",
       "       [1.51966948e-01],\n",
       "       [1.63166740e-01],\n",
       "       [1.58616820e-01],\n",
       "       [1.61066787e-01],\n",
       "       [1.63516728e-01],\n",
       "       [1.67366645e-01],\n",
       "       [1.68766623e-01],\n",
       "       [1.59316822e-01],\n",
       "       [1.59316822e-01],\n",
       "       [1.60366785e-01],\n",
       "       [1.62466738e-01],\n",
       "       [1.64916705e-01],\n",
       "       [1.67016658e-01],\n",
       "       [1.67716633e-01],\n",
       "       [1.68416635e-01],\n",
       "       [1.65966668e-01],\n",
       "       [1.65966668e-01],\n",
       "       [1.77866435e-01],\n",
       "       [1.90466178e-01],\n",
       "       [2.03765923e-01],\n",
       "       [1.98166040e-01],\n",
       "       [2.11815772e-01],\n",
       "       [2.26165480e-01],\n",
       "       [2.41215163e-01],\n",
       "       [2.56964848e-01],\n",
       "       [2.73414535e-01],\n",
       "       [2.90914185e-01],\n",
       "       [3.09113811e-01],\n",
       "       [3.28363426e-01],\n",
       "       [3.08063848e-01],\n",
       "       [2.88814233e-01],\n",
       "       [2.70614581e-01],\n",
       "       [2.53464918e-01],\n",
       "       [2.57314863e-01],\n",
       "       [2.60114791e-01],\n",
       "       [2.44365106e-01],\n",
       "       [2.60464778e-01],\n",
       "       [2.77264453e-01],\n",
       "       [2.94064128e-01],\n",
       "       [3.12613741e-01],\n",
       "       [3.31863356e-01],\n",
       "       [3.51462959e-01],\n",
       "       [3.30113391e-01],\n",
       "       [3.22763543e-01],\n",
       "       [3.32913345e-01],\n",
       "       [3.12963728e-01],\n",
       "       [3.28013438e-01],\n",
       "       [3.14363706e-01],\n",
       "       [3.07013858e-01],\n",
       "       [3.06663870e-01],\n",
       "       [3.25563498e-01],\n",
       "       [3.26263473e-01],\n",
       "       [3.13313743e-01],\n",
       "       [3.05963868e-01],\n",
       "       [3.24863496e-01],\n",
       "       [3.54612901e-01],\n",
       "       [3.42713133e-01],\n",
       "       [3.37463238e-01],\n",
       "       [3.28013438e-01],\n",
       "       [3.07363846e-01],\n",
       "       [3.08063848e-01],\n",
       "       [3.06313883e-01],\n",
       "       [3.25913485e-01],\n",
       "       [3.19963588e-01],\n",
       "       [3.14713693e-01],\n",
       "       [3.19613601e-01],\n",
       "       [3.18913625e-01],\n",
       "       [3.20663590e-01],\n",
       "       [3.15063708e-01],\n",
       "       [3.07363846e-01],\n",
       "       [3.00713973e-01],\n",
       "       [3.07013858e-01],\n",
       "       [3.04213903e-01],\n",
       "       [3.04913905e-01],\n",
       "       [3.01763963e-01],\n",
       "       [2.98264033e-01],\n",
       "       [2.95464078e-01],\n",
       "       [3.32563358e-01],\n",
       "       [3.22413555e-01],\n",
       "       [3.21013578e-01],\n",
       "       [3.04563918e-01],\n",
       "       [3.09113811e-01],\n",
       "       [3.03513928e-01],\n",
       "       [3.06313883e-01],\n",
       "       [3.12963728e-01],\n",
       "       [3.07713833e-01],\n",
       "       [3.02463938e-01],\n",
       "       [2.98964008e-01],\n",
       "       [3.26613461e-01],\n",
       "       [3.28713413e-01],\n",
       "       [3.28713413e-01],\n",
       "       [3.23463518e-01],\n",
       "       [3.18563638e-01],\n",
       "       [3.36413275e-01],\n",
       "       [3.77712434e-01],\n",
       "       [4.06761863e-01],\n",
       "       [3.88912199e-01],\n",
       "       [3.80162374e-01],\n",
       "       [3.88912199e-01],\n",
       "       [3.82612368e-01],\n",
       "       [3.68962609e-01],\n",
       "       [3.79812413e-01],\n",
       "       [3.88562238e-01],\n",
       "       [3.88562238e-01],\n",
       "       [4.27411429e-01],\n",
       "       [4.59960789e-01],\n",
       "       [4.49460999e-01],\n",
       "       [3.98362053e-01],\n",
       "       [4.05711874e-01],\n",
       "       [4.38611248e-01],\n",
       "       [4.45961069e-01],\n",
       "       [4.55410869e-01],\n",
       "       [5.61808773e-01],\n",
       "       [6.10107818e-01],\n",
       "       [5.97858063e-01],\n",
       "       [5.79658384e-01],\n",
       "       [6.44407090e-01],\n",
       "       [7.16505669e-01],\n",
       "       [7.44155095e-01],\n",
       "       [7.14405690e-01],\n",
       "       [7.39955190e-01],\n",
       "       [7.71104599e-01],\n",
       "       [8.55802841e-01],\n",
       "       [9.48901000e-01],\n",
       "       [1.00000000e+00],\n",
       "       [9.46101099e-01],\n",
       "       [8.95002100e-01],\n",
       "       [8.46353094e-01],\n",
       "       [8.92552106e-01],\n",
       "       [8.44253115e-01],\n",
       "       [7.98404010e-01],\n",
       "       [7.54654885e-01],\n",
       "       [7.95954070e-01],\n",
       "       [7.99104039e-01],\n",
       "       [7.88604249e-01],\n",
       "       [7.58854844e-01],\n",
       "       [7.43455120e-01],\n",
       "       [7.81254374e-01],\n",
       "       [7.76354494e-01],\n",
       "       [7.61304784e-01],\n",
       "       [7.55354914e-01],\n",
       "       [7.64454700e-01],\n",
       "       [7.56404850e-01],\n",
       "       [7.56404850e-01],\n",
       "       [7.49755004e-01],\n",
       "       [7.50454980e-01],\n",
       "       [7.09505809e-01],\n",
       "       [7.35055309e-01],\n",
       "       [7.24905480e-01],\n",
       "       [7.20355614e-01],\n",
       "       [7.11955750e-01],\n",
       "       [6.81856383e-01],\n",
       "       [7.19655585e-01],\n",
       "       [7.59204805e-01],\n",
       "       [8.00854004e-01],\n",
       "       [8.44603129e-01],\n",
       "       [8.29203458e-01],\n",
       "       [8.09603829e-01],\n",
       "       [7.97704035e-01],\n",
       "       [7.78454420e-01],\n",
       "       [8.21153555e-01],\n",
       "       [8.23953563e-01],\n",
       "       [8.07503849e-01],\n",
       "       [7.85454280e-01],\n",
       "       [7.82654325e-01],\n",
       "       [7.74254514e-01],\n",
       "       [7.77754444e-01],\n",
       "       [7.75654465e-01],\n",
       "       [7.50105019e-01],\n",
       "       [7.54304924e-01],\n",
       "       [7.54304924e-01],\n",
       "       [7.46605089e-01],\n",
       "       [7.49755004e-01],\n",
       "       [7.91054189e-01],\n",
       "       [7.89654185e-01],\n",
       "       [7.87904220e-01],\n",
       "       [8.30953423e-01],\n",
       "       [8.49503010e-01],\n",
       "       [8.20103619e-01],\n",
       "       [7.90004199e-01],\n",
       "       [7.69354634e-01],\n",
       "       [7.27005459e-01],\n",
       "       [7.50454980e-01],\n",
       "       [7.49404990e-01],\n",
       "       [7.78104459e-01],\n",
       "       [7.63754724e-01],\n",
       "       [7.91754164e-01],\n",
       "       [7.77404430e-01],\n",
       "       [7.86854284e-01],\n",
       "       [8.29903380e-01],\n",
       "       [8.59302771e-01],\n",
       "       [9.05851904e-01],\n",
       "       [9.09351834e-01],\n",
       "       [8.60002800e-01],\n",
       "       [8.13103759e-01],\n",
       "       [8.57552806e-01],\n",
       "       [7.74254514e-01],\n",
       "       [7.79854424e-01],\n",
       "       [7.57454840e-01],\n",
       "       [7.65154675e-01],\n",
       "       [7.23155515e-01],\n",
       "       [6.83256334e-01],\n",
       "       [6.45457079e-01],\n",
       "       [6.74156495e-01],\n",
       "       [6.36707254e-01],\n",
       "       [6.02057969e-01],\n",
       "       [6.05557899e-01],\n",
       "       [5.97508049e-01],\n",
       "       [6.08007839e-01],\n",
       "       [6.41957149e-01],\n",
       "       [6.12907720e-01]])"
      ]
     },
     "execution_count": 55,
     "metadata": {},
     "output_type": "execute_result"
    }
   ],
   "source": [
    "input_data"
   ]
  },
  {
   "cell_type": "code",
   "execution_count": 57,
   "id": "8b65e3ca",
   "metadata": {},
   "outputs": [
    {
     "data": {
      "text/plain": [
       "(558, 1)"
      ]
     },
     "execution_count": 57,
     "metadata": {},
     "output_type": "execute_result"
    }
   ],
   "source": [
    "input_data.shape"
   ]
  },
  {
   "cell_type": "code",
   "execution_count": 58,
   "id": "36953e0d",
   "metadata": {},
   "outputs": [],
   "source": [
    "x_test=[]\n",
    "y_test=[]\n",
    "\n",
    "for i in range(100,input_data.shape[0]):\n",
    "    x_test.append(input_data[i-100:i])\n",
    "    y_test.append(input_data[i,0])"
   ]
  },
  {
   "cell_type": "code",
   "execution_count": 59,
   "id": "b4d0dbf6",
   "metadata": {},
   "outputs": [],
   "source": [
    "x_test, y_test = np.array(x_test),np.array(y_test)"
   ]
  },
  {
   "cell_type": "code",
   "execution_count": 60,
   "id": "6e0d44a6",
   "metadata": {},
   "outputs": [
    {
     "name": "stdout",
     "output_type": "stream",
     "text": [
      "(458, 100, 1)\n",
      "(458,)\n"
     ]
    }
   ],
   "source": [
    "print(x_test.shape)\n",
    "print(y_test.shape)"
   ]
  },
  {
   "cell_type": "markdown",
   "id": "fbb03acf",
   "metadata": {},
   "source": [
    "### Making Predictions"
   ]
  },
  {
   "cell_type": "code",
   "execution_count": 61,
   "id": "ce58ef57",
   "metadata": {},
   "outputs": [
    {
     "name": "stdout",
     "output_type": "stream",
     "text": [
      "\u001b[1m15/15\u001b[0m \u001b[32m━━━━━━━━━━━━━━━━━━━━\u001b[0m\u001b[37m\u001b[0m \u001b[1m3s\u001b[0m 152ms/step\n"
     ]
    }
   ],
   "source": [
    "y_predicted = model.predict(x_test)"
   ]
  },
  {
   "cell_type": "code",
   "execution_count": 62,
   "id": "68625157",
   "metadata": {},
   "outputs": [
    {
     "data": {
      "text/plain": [
       "(458, 1)"
      ]
     },
     "execution_count": 62,
     "metadata": {},
     "output_type": "execute_result"
    }
   ],
   "source": [
    "y_predicted.shape"
   ]
  },
  {
   "cell_type": "markdown",
   "id": "577f443c",
   "metadata": {},
   "source": [
    "### Scaling up the values of y_predicted and y_test"
   ]
  },
  {
   "cell_type": "code",
   "execution_count": 63,
   "id": "0caeac28",
   "metadata": {},
   "outputs": [
    {
     "data": {
      "text/plain": [
       "array([0.00699986])"
      ]
     },
     "execution_count": 63,
     "metadata": {},
     "output_type": "execute_result"
    }
   ],
   "source": [
    "scaler.scale_"
   ]
  },
  {
   "cell_type": "code",
   "execution_count": 64,
   "id": "6fb4063b",
   "metadata": {},
   "outputs": [],
   "source": [
    "y_predicted = y_predicted/scaler.scale_\n",
    "y_test = y_test/scaler.scale_"
   ]
  },
  {
   "cell_type": "code",
   "execution_count": 66,
   "id": "ba82355f",
   "metadata": {},
   "outputs": [
    {
     "data": {
      "image/png": "[encoded data removed]",
      "text/plain": [
       "<Figure size 864x432 with 1 Axes>"
      ]
     },
     "metadata": {
      "needs_background": "light"
     },
     "output_type": "display_data"
    }
   ],
   "source": [
    "plt.figure(figsize=(12,6))\n",
    "plt.plot(y_test,'b',label='Actual Values')\n",
    "plt.plot(y_predicted,'r',label='Predicted Values')\n",
    "plt.xlabel('Time')\n",
    "plt.ylabel('Closing Price')\n",
    "plt.legend()\n",
    "plt.show()"
   ]
  },
  {
   "cell_type": "code",
   "execution_count": null,
   "id": "630ae35c",
   "metadata": {},
   "outputs": [],
   "source": []
  }
 ],
 "metadata": {
  "kernelspec": {
   "display_name": "Python 3 (ipykernel)",
   "language": "python",
   "name": "python3"
  },
  "language_info": {
   "codemirror_mode": {
    "name": "ipython",
    "version": 3
   },
   "file_extension": ".py",
   "mimetype": "text/x-python",
   "name": "python",
   "nbconvert_exporter": "python",
   "pygments_lexer": "ipython3",
   "version": "3.9.7"
  }
 },
 "nbformat": 4,
 "nbformat_minor": 5
}
